{
 "cells": [
  {
   "cell_type": "code",
   "execution_count": 1,
   "metadata": {},
   "outputs": [],
   "source": [
    "from paraview.simple import *\n",
    "import numpy as np\n",
    "from paraview import numpy_support as ns\n",
    "import vtk"
   ]
  },
  {
   "cell_type": "code",
   "execution_count": 25,
   "metadata": {},
   "outputs": [
    {
     "ename": "AttributeError",
     "evalue": "'NoneType' object has no attribute 'GetDataType'",
     "output_type": "error",
     "traceback": [
      "\u001b[0;31m---------------------------------------------------------------------------\u001b[0m",
      "\u001b[0;31mAttributeError\u001b[0m                            Traceback (most recent call last)",
      "\u001b[1;32m/Users/sherrywu1999/bin/openfoam-simulation/windAroundBuildings/test.ipynb Cell 2\u001b[0m in \u001b[0;36m2\n\u001b[1;32m     <a href='vscode-notebook-cell:/Users/sherrywu1999/bin/openfoam-simulation/windAroundBuildings/test.ipynb#W1sZmlsZQ%3D%3D?line=17'>18</a>\u001b[0m d1 \u001b[39m=\u001b[39m servermanager\u001b[39m.\u001b[39mFetch(m1)\n\u001b[1;32m     <a href='vscode-notebook-cell:/Users/sherrywu1999/bin/openfoam-simulation/windAroundBuildings/test.ipynb#W1sZmlsZQ%3D%3D?line=18'>19</a>\u001b[0m d1\u001b[39m.\u001b[39mGetCellData()\n\u001b[0;32m---> <a href='vscode-notebook-cell:/Users/sherrywu1999/bin/openfoam-simulation/windAroundBuildings/test.ipynb#W1sZmlsZQ%3D%3D?line=19'>20</a>\u001b[0m u1\u001b[39m=\u001b[39m ns\u001b[39m.\u001b[39;49mvtk_to_numpy(d1\u001b[39m.\u001b[39;49mGetCellData()\u001b[39m.\u001b[39;49mGetArray(\u001b[39m\"\u001b[39;49m\u001b[39mU\u001b[39;49m\u001b[39m\"\u001b[39;49m))\n\u001b[1;32m     <a href='vscode-notebook-cell:/Users/sherrywu1999/bin/openfoam-simulation/windAroundBuildings/test.ipynb#W1sZmlsZQ%3D%3D?line=20'>21</a>\u001b[0m \u001b[39m#numCells = u1.GetNumberOfCells()\u001b[39;00m\n\u001b[1;32m     <a href='vscode-notebook-cell:/Users/sherrywu1999/bin/openfoam-simulation/windAroundBuildings/test.ipynb#W1sZmlsZQ%3D%3D?line=22'>23</a>\u001b[0m Slice2 \u001b[39m=\u001b[39m FindSource(\u001b[39m\"\u001b[39m\u001b[39mSlice2\u001b[39m\u001b[39m\"\u001b[39m)\n",
      "File \u001b[0;32m~/opt/anaconda3/envs/pt2pc/lib/python3.10/site-packages/vtkmodules/util/numpy_support.py:215\u001b[0m, in \u001b[0;36mvtk_to_numpy\u001b[0;34m(vtk_array)\u001b[0m\n\u001b[1;32m    200\u001b[0m \u001b[39mdef\u001b[39;00m \u001b[39mvtk_to_numpy\u001b[39m(vtk_array):\n\u001b[1;32m    201\u001b[0m     \u001b[39m\"\"\"Converts a VTK data array to a numpy array.\u001b[39;00m\n\u001b[1;32m    202\u001b[0m \n\u001b[1;32m    203\u001b[0m \u001b[39m    Given a subclass of vtkDataArray, this function returns an\u001b[39;00m\n\u001b[0;32m   (...)\u001b[0m\n\u001b[1;32m    213\u001b[0m \n\u001b[1;32m    214\u001b[0m \u001b[39m    \"\"\"\u001b[39;00m\n\u001b[0;32m--> 215\u001b[0m     typ \u001b[39m=\u001b[39m vtk_array\u001b[39m.\u001b[39;49mGetDataType()\n\u001b[1;32m    216\u001b[0m     \u001b[39massert\u001b[39;00m typ \u001b[39min\u001b[39;00m get_vtk_to_numpy_typemap()\u001b[39m.\u001b[39mkeys(), \\\n\u001b[1;32m    217\u001b[0m            \u001b[39m\"\u001b[39m\u001b[39mUnsupported array type \u001b[39m\u001b[39m%s\u001b[39;00m\u001b[39m\"\u001b[39m\u001b[39m%\u001b[39mtyp\n\u001b[1;32m    218\u001b[0m     \u001b[39massert\u001b[39;00m typ \u001b[39m!=\u001b[39m vtkConstants\u001b[39m.\u001b[39mVTK_BIT, \u001b[39m'\u001b[39m\u001b[39mBit arrays are not supported.\u001b[39m\u001b[39m'\u001b[39m\n",
      "\u001b[0;31mAttributeError\u001b[0m: 'NoneType' object has no attribute 'GetDataType'"
     ]
    }
   ],
   "source": [
    "# Get active boundary (actualy a 3D wing from a mesh with pressure data)\n",
    "Junction = GetActiveSource()\n",
    "Z =[]\n",
    "\n",
    "# For several positions on the z axis\n",
    "for z in np.arange(0,100,10):\n",
    "    Slice1 = Slice(Input=Junction)\n",
    "    Slice1.SliceType = \"Plane\"\n",
    "    Slice1.SliceOffsetValues = [0.0]\n",
    "    Slice1.SliceType.Origin = [0.0, 0.0, z]\n",
    "    Slice1.SliceType.Normal = [0.0, 0.0, 1.0]\n",
    "    Z.append(Slice1)\n",
    "\n",
    "# Took two slice as an example but for multiple ones, just repeat the procedure\n",
    "\n",
    "Slice1 = FindSource(\"Slice1\")\n",
    "m1 = MergeBlocks(Slice1)\n",
    "d1 = servermanager.Fetch(m1)\n",
    "d1.GetCellData()\n",
    "u1= ns.vtk_to_numpy(d1.GetCellData().GetArray(\"U\"))\n",
    "#numCells = u1.GetNumberOfCells()\n",
    "\n",
    "Slice2 = FindSource(\"Slice2\")\n",
    "m2 = MergeBlocks(Slice2)\n",
    "d2 = servermanager.Fetch(m2)\n",
    "d2.GetCellData()\n",
    "u2=ns.vtk_to_numpy(d2.GetCellData().GetArray(\"U\"))\n",
    "\n",
    "uvg = (u1+u2)/2"
   ]
  },
  {
   "cell_type": "code",
   "execution_count": 2,
   "metadata": {},
   "outputs": [],
   "source": [
    "import numpy as np\n",
    "from paraview import simple as pvs"
   ]
  },
  {
   "cell_type": "code",
   "execution_count": 40,
   "metadata": {},
   "outputs": [
    {
     "name": "stdout",
     "output_type": "stream",
     "text": [
      "['Adddimensionalunitstoarraynames', 'Cachemesh', 'CaseType', 'CellArrayInfo', 'CellArrays', 'Copydatatocellzones', 'Createcelltopointfiltereddata', 'Decomposepolyhedra', 'FileName', 'LagrangianArrayInfo', 'LagrangianArrays', 'ListtimestepsaccordingtocontrolDict', 'MeshRegions', 'PatchArrayInfo', 'PointArrayInfo', 'PointArrays', 'Lagrangianpositionswithoutextradata', 'Readzones', 'Refresh', 'SkipZeroTime', 'TimestepValues', 'ScalarSize', 'LabelSize']\n"
     ]
    },
    {
     "ename": "RuntimeError",
     "evalue": "Cannot set an InformationOnly property!",
     "output_type": "error",
     "traceback": [
      "\u001b[0;31m---------------------------------------------------------------------------\u001b[0m",
      "\u001b[0;31mRuntimeError\u001b[0m                              Traceback (most recent call last)",
      "\u001b[1;32m/Users/sherrywu1999/bin/openfoam-simulation/windAroundBuildings/test.ipynb Cell 4\u001b[0m in \u001b[0;36m8\n\u001b[1;32m      <a href='vscode-notebook-cell:/Users/sherrywu1999/bin/openfoam-simulation/windAroundBuildings/test.ipynb#W4sZmlsZQ%3D%3D?line=5'>6</a>\u001b[0m \u001b[39mprint\u001b[39m(case\u001b[39m.\u001b[39mListProperties())\n\u001b[1;32m      <a href='vscode-notebook-cell:/Users/sherrywu1999/bin/openfoam-simulation/windAroundBuildings/test.ipynb#W4sZmlsZQ%3D%3D?line=6'>7</a>\u001b[0m \u001b[39mcase\u001b[39;00m\u001b[39m.\u001b[39mCellArrays \u001b[39m=\u001b[39m [\u001b[39m'\u001b[39m\u001b[39mU\u001b[39m\u001b[39m'\u001b[39m]\n\u001b[0;32m----> <a href='vscode-notebook-cell:/Users/sherrywu1999/bin/openfoam-simulation/windAroundBuildings/test.ipynb#W4sZmlsZQ%3D%3D?line=7'>8</a>\u001b[0m \u001b[39mcase\u001b[39;49;00m\u001b[39m.\u001b[39;49mTimestepValues\u001b[39m.\u001b[39;49mSetData(\u001b[39m400.0\u001b[39;49m)\n\u001b[1;32m     <a href='vscode-notebook-cell:/Users/sherrywu1999/bin/openfoam-simulation/windAroundBuildings/test.ipynb#W4sZmlsZQ%3D%3D?line=9'>10</a>\u001b[0m \u001b[39mprint\u001b[39m(case\u001b[39m.\u001b[39mCellArrays)\n\u001b[1;32m     <a href='vscode-notebook-cell:/Users/sherrywu1999/bin/openfoam-simulation/windAroundBuildings/test.ipynb#W4sZmlsZQ%3D%3D?line=12'>13</a>\u001b[0m Junction \u001b[39m=\u001b[39m pvs\u001b[39m.\u001b[39mGetActiveSource()\n",
      "File \u001b[0;32m~/opt/anaconda3/envs/pt2pc/lib/python3.10/site-packages/paraview/servermanager.py:858\u001b[0m, in \u001b[0;36mVectorProperty.SetData\u001b[0;34m(self, values)\u001b[0m\n\u001b[1;32m    855\u001b[0m \u001b[39m\"\"\"Allows setting of all values at once. Requires a single value or\u001b[39;00m\n\u001b[1;32m    856\u001b[0m \u001b[39ma iterable object.\"\"\"\u001b[39;00m\n\u001b[1;32m    857\u001b[0m \u001b[39mif\u001b[39;00m \u001b[39mself\u001b[39m\u001b[39m.\u001b[39mSMProperty\u001b[39m.\u001b[39mGetInformationOnly() \u001b[39m!=\u001b[39m \u001b[39m0\u001b[39m:\n\u001b[0;32m--> 858\u001b[0m   \u001b[39mraise\u001b[39;00m \u001b[39mRuntimeError\u001b[39;00m(\u001b[39m\"\u001b[39m\u001b[39mCannot set an InformationOnly property!\u001b[39m\u001b[39m\"\u001b[39m)\n\u001b[1;32m    859\u001b[0m \u001b[39m# Python3: str now has attr \"__iter__\", test separately\u001b[39;00m\n\u001b[1;32m    860\u001b[0m \u001b[39mif\u001b[39;00m (\u001b[39mnot\u001b[39;00m \u001b[39mhasattr\u001b[39m(values, \u001b[39m\"\u001b[39m\u001b[39m__iter__\u001b[39m\u001b[39m\"\u001b[39m)) \u001b[39mor\u001b[39;00m (\u001b[39mtype\u001b[39m(values) \u001b[39m==\u001b[39m \u001b[39mtype\u001b[39m(\u001b[39m\"\u001b[39m\u001b[39m\"\u001b[39m)):\n",
      "\u001b[0;31mRuntimeError\u001b[0m: Cannot set an InformationOnly property!"
     ]
    }
   ],
   "source": [
    "# Specify the path to the .foam file\n",
    "foam_file = \"/Users/sherrywu1999/Desktop/windAroundBuildings/open.foam\"\n",
    "\n",
    "# Open the .foam file using OpenDataFile() method\n",
    "case = OpenFOAMReader(FileName=foam_file)\n",
    "print(case.ListProperties())\n",
    "case.CellArrays = ['U']\n",
    "case.TimestepValues.SetData(400.0)\n",
    "\n",
    "print(case.CellArrays)\n",
    "\n",
    "\n",
    "Junction = pvs.GetActiveSource()\n",
    "print(Junction)\n",
    "Z = []\n",
    "\n",
    "for z in np.arange(0,100,25):\n",
    "    Slice1 = pvs.Slice(Input=case, SliceType=\"Plane\")\n",
    "    Slice1.SliceOffsetValues = [0.0]\n",
    "    Slice1.SliceType.Origin = [0.0, 0.0, z]\n",
    "    Slice1.SliceType.Normal = [0.0, 0.0, 1.0]\n",
    "    print(Slice1)\n",
    "    Z.append(Slice1)\n",
    "\n",
    "result = []\n",
    "for level in Z:\n",
    "    output = level[0].PointData['p']\n",
    "    print(output.Arrays[0])\n",
    "    result.append(output)\n",
    "\n"
   ]
  },
  {
   "cell_type": "code",
   "execution_count": 52,
   "metadata": {},
   "outputs": [
    {
     "name": "stdout",
     "output_type": "stream",
     "text": [
      "<paraview.servermanager.CellDatatoPointData object at 0x7fd2851727a0>\n",
      "Array: U\n"
     ]
    },
    {
     "data": {
      "text/plain": [
       "True"
      ]
     },
     "execution_count": 52,
     "metadata": {},
     "output_type": "execute_result"
    }
   ],
   "source": [
    "from paraview.simple import *\n",
    "\n",
    "#paraview.simple._DisableFirstRenderCameraReset()\n",
    "\n",
    "# Read Foam Case\n",
    "case1=OpenFOAMReader(FileName=\"/Users/sherrywu1999/Desktop/windAroundBuildings/open.foam\")\n",
    "\n",
    "# render_view = Render()\n",
    "# paraview.simple.SaveScreenshot('/Users/sherrywu1999/Desktop/windAroundBuildings/image1.png', render_view)\n",
    "\n",
    "case1.MeshRegions = ['internalMesh']\n",
    "case1.CellArrays = ['U']\n",
    "servermanager.Fetch(case1)\n",
    "pointData = CellDatatoPointData(Input=case1)\n",
    "print(pointData)\n",
    "\n",
    "# create slice\n",
    "slice1=Slice(Input=pointData)\n",
    "slice1.SliceType=\"Plane\"\n",
    "slice1.SliceType.Origin=[155, 90, 20]\n",
    "slice1.SliceType.Normal=[0.0, 0.0, 1.0]\n",
    "a = slice1.PointData\n",
    "print(a[0])\n",
    "\n",
    "# create view\n",
    "view1=CreateRenderView()\n",
    "#view1.ViewSize = [600,400]\n",
    "view1.InteractionMode ='2D'\n",
    "#view1.CameraViewUp = [0.0, 1.0, 1.0]\n",
    "view1.ViewTime=max(case1.TimestepValues)\n",
    "\n",
    "# show view\n",
    "display1=Show(slice1, view1)\n",
    "display1.Visibility=1\n",
    "display1.ColorArrayName='U'\n",
    "display1.LookupTable=GetLookupTableForArray(\"U\", 0)\n",
    "\n",
    "# save state\n",
    "#servermanager.SaveState('./elbow.pvsm')\n",
    "\n",
    "# render view\n",
    "render_view = Render()\n",
    "paraview.simple.SaveScreenshot('/Users/sherrywu1999/Desktop/windAroundBuildings/image2.png', render_view)\n"
   ]
  },
  {
   "cell_type": "code",
   "execution_count": 7,
   "metadata": {},
   "outputs": [
    {
     "ename": "NameError",
     "evalue": "name 'inputs' is not defined",
     "output_type": "error",
     "traceback": [
      "\u001b[0;31m---------------------------------------------------------------------------\u001b[0m",
      "\u001b[0;31mNameError\u001b[0m                                 Traceback (most recent call last)",
      "\u001b[1;32m/Users/sherrywu1999/bin/openfoam-simulation/windAroundBuildings/test.ipynb Cell 3\u001b[0m in \u001b[0;36m6\n\u001b[1;32m      <a href='vscode-notebook-cell:/Users/sherrywu1999/bin/openfoam-simulation/windAroundBuildings/test.ipynb#W2sZmlsZQ%3D%3D?line=2'>3</a>\u001b[0m \u001b[39mfrom\u001b[39;00m \u001b[39mvtk\u001b[39;00m\u001b[39m.\u001b[39;00m\u001b[39mutil\u001b[39;00m\u001b[39m.\u001b[39;00m\u001b[39mnumpy_support\u001b[39;00m \u001b[39mimport\u001b[39;00m vtk_to_numpy\n\u001b[1;32m      <a href='vscode-notebook-cell:/Users/sherrywu1999/bin/openfoam-simulation/windAroundBuildings/test.ipynb#W2sZmlsZQ%3D%3D?line=3'>4</a>\u001b[0m \u001b[39mfrom\u001b[39;00m \u001b[39mparaview\u001b[39;00m \u001b[39mimport\u001b[39;00m numpy_support \u001b[39mas\u001b[39;00m ns\n\u001b[0;32m----> <a href='vscode-notebook-cell:/Users/sherrywu1999/bin/openfoam-simulation/windAroundBuildings/test.ipynb#W2sZmlsZQ%3D%3D?line=5'>6</a>\u001b[0m output \u001b[39m=\u001b[39m inputs[\u001b[39m0\u001b[39m]\u001b[39m.\u001b[39mPointData[\u001b[39m'\u001b[39m\u001b[39mU\u001b[39m\u001b[39m'\u001b[39m]\n\u001b[1;32m      <a href='vscode-notebook-cell:/Users/sherrywu1999/bin/openfoam-simulation/windAroundBuildings/test.ipynb#W2sZmlsZQ%3D%3D?line=6'>7</a>\u001b[0m \u001b[39mprint\u001b[39m(output\u001b[39m.\u001b[39mArrays[\u001b[39m0\u001b[39m])\n",
      "\u001b[0;31mNameError\u001b[0m: name 'inputs' is not defined"
     ]
    }
   ],
   "source": [
    "import numpy as np\n",
    "import vtk\n",
    "from vtk.util.numpy_support import vtk_to_numpy\n",
    "from paraview import numpy_support as ns\n",
    "\n",
    "output = inputs[0].PointData['U']\n",
    "print(output.Arrays[0])"
   ]
  },
  {
   "cell_type": "code",
   "execution_count": 26,
   "metadata": {},
   "outputs": [],
   "source": [
    "from paraview.simple import *\n",
    "\n",
    "# Lets create a sphere\n",
    "\n",
    "sphere=Sphere()\n",
    "Show()\n",
    "Render()\n",
    "# get active view\n",
    "\n",
    "renderView1 = GetActiveViewOrCreate('RenderView')\n",
    "renderView1.ViewSize = [1670, 1091]"
   ]
  },
  {
   "cell_type": "code",
   "execution_count": 59,
   "metadata": {},
   "outputs": [
    {
     "name": "stdout",
     "output_type": "stream",
     "text": [
      "<numpy.lib.npyio.NpzFile object at 0x7fd2825b3b80>\n",
      "(12196, 3)\n"
     ]
    },
    {
     "data": {
      "text/plain": [
       "110.43550153822818"
      ]
     },
     "execution_count": 59,
     "metadata": {},
     "output_type": "execute_result"
    }
   ],
   "source": [
    "import numpy as np\n",
    "import math\n",
    "\n",
    "# Load the .npz file\n",
    "data = np.load('/Users/sherrywu1999/Desktop/windAroundBuildings/slice.npz')\n",
    "print(data)\n",
    "print(data[\"data\"].shape)\n",
    "math.sqrt(12196)"
   ]
  },
  {
   "cell_type": "code",
   "execution_count": null,
   "metadata": {},
   "outputs": [],
   "source": [
    "# working version for a slice\n",
    "\n",
    "from paraview import numpy_support as ns\n",
    "from paraview.simple import servermanager, MergeBlocks, GetActiveSource, FindSource\n",
    "import numpy as np\n",
    "Junction = GetActiveSource()\n",
    "Slice1 = FindSource(\"Slice1\")\n",
    "\n",
    "m1 = MergeBlocks(Slice1)\n",
    "d1 = servermanager.Fetch(m1)\n",
    "d1.GetCellData()\n",
    "print(d1)\n",
    "u1= ns.vtk_to_numpy(d1.GetCellData().GetArray(\"U\"))\n",
    "print(u1)\n",
    "np.savez('/Users/sherrywu1999/Desktop/windAroundBuildings/slice.npz', data=u1)"
   ]
  },
  {
   "cell_type": "code",
   "execution_count": null,
   "metadata": {},
   "outputs": [],
   "source": [
    "# working version for .foam files\n",
    "\n",
    "import numpy as np\n",
    "from paraview import simple as pvs\n",
    "\n",
    "Junction = pvs.GetActiveSource()\n",
    "Z =[]\n",
    "\n",
    "# For several positions on the z axis\n",
    "for z in np.arange(0,100,10):\n",
    "    Slice1 = pvs.Slice(Input=Junction)\n",
    "    Slice1.SliceType = \"Plane\"\n",
    "    Slice1.SliceOffsetValues = [0.0]\n",
    "    Slice1.SliceType.Origin = [0.0, 0.0, z]\n",
    "    Slice1.SliceType.Normal = [0.0, 0.0, 1.0]\n",
    "    Z.append(Slice1)\n",
    "\n",
    "for slicee in Z:\n",
    "    print(slicee)"
   ]
  },
  {
   "cell_type": "code",
   "execution_count": 62,
   "metadata": {},
   "outputs": [
    {
     "name": "stdout",
     "output_type": "stream",
     "text": [
      "Block type: 4\n"
     ]
    },
    {
     "name": "stderr",
     "output_type": "stream",
     "text": [
      "\u001b[0m\u001b[31m(52373.494s) [paraview        ]  vtkPDataSetReader.cxx:145    ERR| vtkPDataSetReader (0x7fd221951770): This does not look like a VTK file: /Users/sherrywu1999/Desktop/windAroundBuildings/block.vtm\u001b[0m\n",
      "\u001b[0m\u001b[31m(52373.496s) [paraview        ]  vtkPDataSetReader.cxx:181    ERR| vtkPDataSetReader (0x7fd221951770): Unknown data type.\u001b[0m\n",
      "\u001b[0m\u001b[31m(52373.496s) [paraview        ]       vtkExecutive.cxx:753    ERR| vtkPVCompositeDataPipeline (0x7fd221630180): Algorithm vtkFileSeriesReader(0x7fd221953540) returned failure for request: vtkInformation (0x7fd221630650)\n",
      "  Debug: Off\n",
      "  Modified Time: 5036588\n",
      "  Reference Count: 1\n",
      "  Registered Events: (none)\n",
      "  Request: REQUEST_DATA_OBJECT\n",
      "  ALGORITHM_AFTER_FORWARD: 1\n",
      "  FORWARD_DIRECTION: 0\n",
      "\n",
      "\u001b[0m\n",
      "\u001b[0m\u001b[31m(52373.497s) [paraview        ]  vtkPDataSetReader.cxx:145    ERR| vtkPDataSetReader (0x7fd221951770): This does not look like a VTK file: /Users/sherrywu1999/Desktop/windAroundBuildings/block.vtm\u001b[0m\n",
      "\u001b[0m\u001b[31m(52373.497s) [paraview        ]  vtkPDataSetReader.cxx:181    ERR| vtkPDataSetReader (0x7fd221951770): Unknown data type.\u001b[0m\n",
      "\u001b[0m\u001b[31m(52373.497s) [paraview        ]       vtkExecutive.cxx:753    ERR| vtkPVCompositeDataPipeline (0x7fd221630180): Algorithm vtkFileSeriesReader(0x7fd221953540) returned failure for request: vtkInformation (0x7fd221630650)\n",
      "  Debug: Off\n",
      "  Modified Time: 5036588\n",
      "  Reference Count: 1\n",
      "  Registered Events: (none)\n",
      "  Request: REQUEST_DATA_OBJECT\n",
      "  ALGORITHM_AFTER_FORWARD: 1\n",
      "  FORWARD_DIRECTION: 0\n",
      "\n",
      "\u001b[0m\n"
     ]
    },
    {
     "ename": "AttributeError",
     "evalue": "'paraview.modules.vtkRemotingServerManager.vtkSMSou' object has no attribute 'Output'",
     "output_type": "error",
     "traceback": [
      "\u001b[0;31m---------------------------------------------------------------------------\u001b[0m",
      "\u001b[0;31mAttributeError\u001b[0m                            Traceback (most recent call last)",
      "\u001b[1;32m/Users/sherrywu1999/bin/openfoam-simulation/windAroundBuildings/test.ipynb Cell 11\u001b[0m in \u001b[0;36m1\n\u001b[1;32m     <a href='vscode-notebook-cell:/Users/sherrywu1999/bin/openfoam-simulation/windAroundBuildings/test.ipynb#X13sZmlsZQ%3D%3D?line=9'>10</a>\u001b[0m \u001b[39mprint\u001b[39m(\u001b[39m\"\u001b[39m\u001b[39mBlock type:\u001b[39m\u001b[39m\"\u001b[39m, block\u001b[39m.\u001b[39mGetDataObjectType())\n\u001b[1;32m     <a href='vscode-notebook-cell:/Users/sherrywu1999/bin/openfoam-simulation/windAroundBuildings/test.ipynb#X13sZmlsZQ%3D%3D?line=11'>12</a>\u001b[0m \u001b[39m# Load an unstructured grid\u001b[39;00m\n\u001b[0;32m---> <a href='vscode-notebook-cell:/Users/sherrywu1999/bin/openfoam-simulation/windAroundBuildings/test.ipynb#X13sZmlsZQ%3D%3D?line=12'>13</a>\u001b[0m ugrid \u001b[39m=\u001b[39m LegacyVTKReader(FileNames\u001b[39m=\u001b[39;49m[\u001b[39m\"\u001b[39;49m\u001b[39m/Users/sherrywu1999/Desktop/windAroundBuildings/block.vtm\u001b[39;49m\u001b[39m\"\u001b[39;49m])\u001b[39m.\u001b[39;49mOutput\n\u001b[1;32m     <a href='vscode-notebook-cell:/Users/sherrywu1999/bin/openfoam-simulation/windAroundBuildings/test.ipynb#X13sZmlsZQ%3D%3D?line=14'>15</a>\u001b[0m \u001b[39m# Get the number of cells and points\u001b[39;00m\n\u001b[1;32m     <a href='vscode-notebook-cell:/Users/sherrywu1999/bin/openfoam-simulation/windAroundBuildings/test.ipynb#X13sZmlsZQ%3D%3D?line=15'>16</a>\u001b[0m num_cells \u001b[39m=\u001b[39m ugrid\u001b[39m.\u001b[39mGetNumberOfCells()\n",
      "File \u001b[0;32m~/opt/anaconda3/envs/pt2pc/lib/python3.10/site-packages/paraview/servermanager.py:530\u001b[0m, in \u001b[0;36mProxy.__getattr__\u001b[0;34m(self, name)\u001b[0m\n\u001b[1;32m    528\u001b[0m \u001b[39mexcept\u001b[39;00m:\n\u001b[1;32m    529\u001b[0m     \u001b[39mpass\u001b[39;00m\n\u001b[0;32m--> 530\u001b[0m \u001b[39mreturn\u001b[39;00m \u001b[39mgetattr\u001b[39;49m(\u001b[39mself\u001b[39;49m\u001b[39m.\u001b[39;49mSMProxy, name)\n",
      "\u001b[0;31mAttributeError\u001b[0m: 'paraview.modules.vtkRemotingServerManager.vtkSMSou' object has no attribute 'Output'"
     ]
    }
   ],
   "source": [
    "from paraview.simple import *\n",
    "\n",
    "# Open the VTM file\n",
    "data = OpenDataFile(\"/Users/sherrywu1999/Desktop/windAroundBuildings/block.vtm\")\n",
    "\n",
    "# Get the first block of data (assuming it's a multiblock dataset)\n",
    "block = servermanager.Fetch(data).GetBlock(0)\n",
    "\n",
    "# Print information about the block\n",
    "print(\"Block type:\", block.GetDataObjectType())\n",
    "\n",
    "# Load an unstructured grid\n",
    "ugrid = LegacyVTKReader(FileNames=[\"/Users/sherrywu1999/Desktop/windAroundBuildings/block.vtm\"]).Output\n",
    "\n",
    "# Get the number of cells and points\n",
    "num_cells = ugrid.GetNumberOfCells()\n",
    "num_points = ugrid.GetNumberOfPoints()\n",
    "\n",
    "# Get the bounding box\n",
    "bounds = ugrid.GetBounds()"
   ]
  }
 ],
 "metadata": {
  "kernelspec": {
   "display_name": "pt2pc",
   "language": "python",
   "name": "python3"
  },
  "language_info": {
   "codemirror_mode": {
    "name": "ipython",
    "version": 3
   },
   "file_extension": ".py",
   "mimetype": "text/x-python",
   "name": "python",
   "nbconvert_exporter": "python",
   "pygments_lexer": "ipython3",
   "version": "3.10.6"
  },
  "orig_nbformat": 4,
  "vscode": {
   "interpreter": {
    "hash": "44fc793e83837e4deddc1b676c652f2986332b97a567419ad41f35d0bea5d256"
   }
  }
 },
 "nbformat": 4,
 "nbformat_minor": 2
}
